{
 "cells": [
  {
   "cell_type": "code",
   "execution_count": 73,
   "metadata": {
    "id": "MDq0t_BaxkTo"
   },
   "outputs": [],
   "source": [
    "import numpy as np\n",
    "import matplotlib.pyplot as plt\n",
    "import tensorflow as tf\n",
    "from random import seed\n",
    "tf.compat.v1.disable_eager_execution()"
   ]
  },
  {
   "cell_type": "code",
   "execution_count": 74,
   "metadata": {},
   "outputs": [],
   "source": [
    "seed(123)"
   ]
  },
  {
   "cell_type": "code",
   "execution_count": 75,
   "metadata": {
    "id": "sLdL6QQmxsL9"
   },
   "outputs": [],
   "source": [
    "#!pip install adversarial-robustness-toolbox"
   ]
  },
  {
   "cell_type": "code",
   "execution_count": 76,
   "metadata": {
    "id": "6MYta-5Qx89s"
   },
   "outputs": [],
   "source": [
    "from art.attacks.inference import model_inversion \n",
    "from art.estimators.classification import KerasClassifier\n",
    "from art.defences.postprocessor import GaussianNoise"
   ]
  },
  {
   "cell_type": "code",
   "execution_count": 77,
   "metadata": {
    "id": "C5CokfVFyQzL"
   },
   "outputs": [],
   "source": [
    "def load_mnist():\n",
    "  \"\"\"Loads MNIST-Dataset and preprocesses to combine training and test data.\"\"\"\n",
    "  \n",
    "  # load the existing MNIST digit dataset that comes in form of traing + test data and labels\n",
    "  train, test = tf.keras.datasets.mnist.load_data()\n",
    "  train_data, train_labels = train\n",
    "  test_data, test_labels = test\n",
    "\n",
    "  # scale the images from color values 0-255 to numbers from 0-1 to help the training process\n",
    "  train_data = np.array(train_data, dtype=np.float32) / 255\n",
    "  test_data = np.array(test_data, dtype=np.float32) / 255\n",
    "\n",
    "  # convolutional layers expect images to have 3 dimensions (width, height, depth)\n",
    "  # in color images the depth is 3 for the RGB channels\n",
    "  # MNIST is grayscale and hence originally does not need a third dimension\n",
    "  # so we need to artificially add it\n",
    "  train_data = train_data.reshape(train_data.shape[0], 28, 28, 1)\n",
    "  test_data = test_data.reshape(test_data.shape[0], 28, 28, 1)\n",
    "  return train_data, train_labels, test_data, test_labels\n",
    " \n",
    "def make_model():\n",
    "  \"\"\" Define a Keras model\"\"\"\n",
    "  model = tf.keras.Sequential([\n",
    "      tf.keras.layers.Conv2D(16, 8,\n",
    "                              strides=2,\n",
    "                              padding='same',\n",
    "                              activation='relu',\n",
    "                              input_shape=(28, 28, 1)),\n",
    "      tf.keras.layers.MaxPool2D(2, 1),\n",
    "      tf.keras.layers.Conv2D(32, 4,\n",
    "                              strides=2,\n",
    "                              padding='valid',\n",
    "                              activation='relu'),\n",
    "      tf.keras.layers.MaxPool2D(2, 1),\n",
    "      tf.keras.layers.Flatten(),\n",
    "      tf.keras.layers.Dense(32, activation='relu'),\n",
    "      tf.keras.layers.Dense(10, activation='softmax')\n",
    "  ])\n",
    "  return model"
   ]
  },
  {
   "cell_type": "code",
   "execution_count": 78,
   "metadata": {
    "id": "oSaW9ZgVyjwj"
   },
   "outputs": [],
   "source": [
    "train_data, train_labels, test_data, test_labels = load_mnist()"
   ]
  },
  {
   "cell_type": "code",
   "execution_count": 79,
   "metadata": {
    "colab": {
     "base_uri": "https://localhost:8080/"
    },
    "id": "s_W2k3ARysJD",
    "outputId": "2ef4751e-0f46-45aa-f50e-cec1c82b6b43"
   },
   "outputs": [
    {
     "name": "stdout",
     "output_type": "stream",
     "text": [
      "Model: \"sequential_3\"\n",
      "_________________________________________________________________\n",
      " Layer (type)                Output Shape              Param #   \n",
      "=================================================================\n",
      " conv2d_6 (Conv2D)           (None, 14, 14, 16)        1040      \n",
      "                                                                 \n",
      " max_pooling2d_6 (MaxPooling  (None, 13, 13, 16)       0         \n",
      " 2D)                                                             \n",
      "                                                                 \n",
      " conv2d_7 (Conv2D)           (None, 5, 5, 32)          8224      \n",
      "                                                                 \n",
      " max_pooling2d_7 (MaxPooling  (None, 4, 4, 32)         0         \n",
      " 2D)                                                             \n",
      "                                                                 \n",
      " flatten_3 (Flatten)         (None, 512)               0         \n",
      "                                                                 \n",
      " dense_6 (Dense)             (None, 32)                16416     \n",
      "                                                                 \n",
      " dense_7 (Dense)             (None, 10)                330       \n",
      "                                                                 \n",
      "=================================================================\n",
      "Total params: 26,010\n",
      "Trainable params: 26,010\n",
      "Non-trainable params: 0\n",
      "_________________________________________________________________\n"
     ]
    }
   ],
   "source": [
    "# make the neural network model with the function specified above. then look at it\n",
    "model = make_model()\n",
    "model.summary()"
   ]
  },
  {
   "cell_type": "code",
   "execution_count": 80,
   "metadata": {
    "id": "8TBgM6JnyvIZ"
   },
   "outputs": [],
   "source": [
    "# specify hyperparameters\n",
    "optimizer = tf.keras.optimizers.SGD(learning_rate=0.1)\n",
    "loss = tf.keras.losses.SparseCategoricalCrossentropy(from_logits=True)\n",
    "\n",
    "# compile the model\n",
    "model.compile(optimizer=optimizer, loss=loss, metrics=['accuracy'])"
   ]
  },
  {
   "cell_type": "markdown",
   "metadata": {
    "id": "l3KE3jTS1uQ0"
   },
   "source": [
    "# Model Inversion Attack\n",
    "\n",
    "A model inversion attack is a type of machine learning attack that targets the privacy of a trained machine learning model. It works by exploiting information that is leaked through the model's predictions to infer sensitive information about the training data that was used to train the model.\n",
    "\n",
    "To perform a model inversion attack, an attacker first generates a set of input data points and submits them to the target model. The attacker then observes the model's output and uses this output to infer sensitive information about the training data. This process is repeated until the attacker has inferred as much sensitive information as possible.\n",
    "\n",
    "The success of a model inversion attack depends on several factors, including the accuracy of the model, the amount of information that is leaked through the model's predictions, and the availability of training data that is similar to the target data. In some cases, an attacker may need to use additional techniques, such as adversarial attacks, to increase the accuracy of the inferred data.\n",
    "\n",
    "There are several defenses against model inversion attacks, including limiting access to the trained model, adding noise to the model's output, and limiting the amount of information that is exposed through the model's predictions. Additionally, machine learning models can be trained using privacy-preserving techniques, such as differential privacy or federated learning, which help to prevent sensitive information from being leaked during training."
   ]
  },
  {
   "cell_type": "code",
   "execution_count": 81,
   "metadata": {
    "id": "peuB219bz5Rx"
   },
   "outputs": [],
   "source": [
    "GN01 = GaussianNoise(0.01)\n",
    "GN02 = GaussianNoise(0.1)\n",
    "# convert keras model to ART model\n",
    "classifier = KerasClassifier(model=model,\n",
    "                             clip_values=(0, 1), \n",
    "                             use_logits=False\n",
    "                            )\n",
    "classifier01 = KerasClassifier(model=model,\n",
    "                             clip_values=(0, 1), \n",
    "                             use_logits=False, \n",
    "                             postprocessing_defences=GN01\n",
    "                            )\n",
    "classifier02 = KerasClassifier(model=model,\n",
    "                             clip_values=(0, 1), \n",
    "                             use_logits=False, \n",
    "                             postprocessing_defences=GN02\n",
    "                            )"
   ]
  },
  {
   "cell_type": "code",
   "execution_count": 82,
   "metadata": {
    "id": "Arhi3ASQyv_r"
   },
   "outputs": [
    {
     "name": "stdout",
     "output_type": "stream",
     "text": [
      "Train on 60000 samples\n",
      "Epoch 1/10\n",
      "60000/60000 [==============================] - 30s 508us/sample - loss: 0.5686 - accuracy: 0.8207\n",
      "Epoch 2/10\n",
      "60000/60000 [==============================] - 30s 506us/sample - loss: 0.1234 - accuracy: 0.9618\n",
      "Epoch 3/10\n",
      "60000/60000 [==============================] - 32s 531us/sample - loss: 0.0877 - accuracy: 0.9726\n",
      "Epoch 4/10\n",
      "60000/60000 [==============================] - 33s 547us/sample - loss: 0.0709 - accuracy: 0.9779\n",
      "Epoch 5/10\n",
      "60000/60000 [==============================] - 33s 558us/sample - loss: 0.0624 - accuracy: 0.9805\n",
      "Epoch 6/10\n",
      "60000/60000 [==============================] - 33s 543us/sample - loss: 0.0530 - accuracy: 0.9832\n",
      "Epoch 7/10\n",
      "60000/60000 [==============================] - 32s 532us/sample - loss: 0.1504 - accuracy: 0.9598\n",
      "Epoch 8/10\n",
      "60000/60000 [==============================] - 35s 585us/sample - loss: 0.0536 - accuracy: 0.9837\n",
      "Epoch 9/10\n",
      "60000/60000 [==============================] - 33s 544us/sample - loss: 0.0452 - accuracy: 0.9856\n",
      "Epoch 10/10\n",
      "60000/60000 [==============================] - 28s 472us/sample - loss: 0.0404 - accuracy: 0.9877\n",
      "Train on 60000 samples\n",
      "Epoch 1/10\n",
      "60000/60000 [==============================] - 22s 369us/sample - loss: 0.0365 - accuracy: 0.9886\n",
      "Epoch 2/10\n",
      "60000/60000 [==============================] - 25s 414us/sample - loss: 0.0336 - accuracy: 0.9898\n",
      "Epoch 3/10\n",
      "60000/60000 [==============================] - 24s 404us/sample - loss: 0.0301 - accuracy: 0.9908\n",
      "Epoch 4/10\n",
      "60000/60000 [==============================] - 24s 397us/sample - loss: 0.0288 - accuracy: 0.9912\n",
      "Epoch 5/10\n",
      "60000/60000 [==============================] - 28s 461us/sample - loss: 0.0266 - accuracy: 0.9918\n",
      "Epoch 6/10\n",
      "60000/60000 [==============================] - 25s 409us/sample - loss: 0.0250 - accuracy: 0.9923\n",
      "Epoch 7/10\n",
      "60000/60000 [==============================] - 22s 360us/sample - loss: 0.0234 - accuracy: 0.9929\n",
      "Epoch 8/10\n",
      "60000/60000 [==============================] - 22s 365us/sample - loss: 0.0215 - accuracy: 0.9935\n",
      "Epoch 9/10\n",
      "60000/60000 [==============================] - 22s 363us/sample - loss: 0.0203 - accuracy: 0.9937\n",
      "Epoch 10/10\n",
      "60000/60000 [==============================] - 22s 362us/sample - loss: 0.0190 - accuracy: 0.9940\n",
      "Train on 60000 samples\n",
      "Epoch 1/10\n",
      "60000/60000 [==============================] - 22s 359us/sample - loss: 0.0185 - accuracy: 0.9944\n",
      "Epoch 2/10\n",
      "60000/60000 [==============================] - 22s 368us/sample - loss: 0.0175 - accuracy: 0.9943\n",
      "Epoch 3/10\n",
      "60000/60000 [==============================] - 22s 363us/sample - loss: 0.0168 - accuracy: 0.9950\n",
      "Epoch 4/10\n",
      "60000/60000 [==============================] - 22s 360us/sample - loss: 0.0153 - accuracy: 0.9955\n",
      "Epoch 5/10\n",
      "60000/60000 [==============================] - 22s 364us/sample - loss: 0.0143 - accuracy: 0.9956\n",
      "Epoch 6/10\n",
      "60000/60000 [==============================] - 22s 363us/sample - loss: 0.0132 - accuracy: 0.9963\n",
      "Epoch 7/10\n",
      "60000/60000 [==============================] - 22s 365us/sample - loss: 0.0133 - accuracy: 0.9958\n",
      "Epoch 8/10\n",
      "60000/60000 [==============================] - 22s 362us/sample - loss: 0.0120 - accuracy: 0.9965\n",
      "Epoch 9/10\n",
      "60000/60000 [==============================] - 22s 365us/sample - loss: 0.0113 - accuracy: 0.9968\n",
      "Epoch 10/10\n",
      "60000/60000 [==============================] - 22s 364us/sample - loss: 0.0106 - accuracy: 0.9969\n"
     ]
    }
   ],
   "source": [
    "# train the model\n",
    "classifier.fit(train_data, train_labels, batch_size=264, nb_epochs=10)\n",
    "classifier01.fit(train_data, train_labels, batch_size=264, nb_epochs=10)\n",
    "classifier02.fit(train_data, train_labels, batch_size=264, nb_epochs=10)"
   ]
  },
  {
   "cell_type": "code",
   "execution_count": 83,
   "metadata": {
    "id": "Nu0uaI7dy8jj"
   },
   "outputs": [],
   "source": [
    "# create the attack object\n",
    "my_attack = model_inversion.MIFace(classifier)\n",
    "my_attack01 = model_inversion.MIFace(classifier01)\n",
    "my_attack02 = model_inversion.MIFace(classifier02)"
   ]
  },
  {
   "cell_type": "code",
   "execution_count": 84,
   "metadata": {
    "id": "wGups9f_ygHT"
   },
   "outputs": [
    {
     "data": {
      "text/plain": [
       "array([0, 1, 2, 3, 4, 5, 6, 7, 8, 9])"
      ]
     },
     "execution_count": 84,
     "metadata": {},
     "output_type": "execute_result"
    }
   ],
   "source": [
    "# create an array of the classes to be attacked\n",
    "y_all = np.arange(10)\n",
    "y_all"
   ]
  },
  {
   "cell_type": "code",
   "execution_count": 85,
   "metadata": {
    "id": "w7pcQHMMuEhm"
   },
   "outputs": [
    {
     "data": {
      "application/vnd.jupyter.widget-view+json": {
       "model_id": "4e5004aba7274dfab8e5ed52c1449dac",
       "version_major": 2,
       "version_minor": 0
      },
      "text/plain": [
       "Model inversion:   0%|          | 0/10 [00:00<?, ?it/s]"
      ]
     },
     "metadata": {},
     "output_type": "display_data"
    },
    {
     "name": "stderr",
     "output_type": "stream",
     "text": [
      "/Library/Frameworks/Python.framework/Versions/3.9/lib/python3.9/site-packages/keras/engine/training_v1.py:2079: UserWarning: `Model.state_updates` will be removed in a future version. This property should not be used in TensorFlow 2.0, as `updates` are applied automatically.\n",
      "  updates=self.state_updates,\n"
     ]
    },
    {
     "data": {
      "application/vnd.jupyter.widget-view+json": {
       "model_id": "14cdbc88a3434c51aa3d9c5e430ac9a8",
       "version_major": 2,
       "version_minor": 0
      },
      "text/plain": [
       "Model inversion:   0%|          | 0/10 [00:00<?, ?it/s]"
      ]
     },
     "metadata": {},
     "output_type": "display_data"
    },
    {
     "data": {
      "application/vnd.jupyter.widget-view+json": {
       "model_id": "f6b4a7aff47f4f85ba7bfdcbabf6e1d6",
       "version_major": 2,
       "version_minor": 0
      },
      "text/plain": [
       "Model inversion:   0%|          | 0/10 [00:00<?, ?it/s]"
      ]
     },
     "metadata": {},
     "output_type": "display_data"
    }
   ],
   "source": [
    "inferred_images = my_attack.infer(x=None,y=y_all)\n",
    "inferred_images01 = my_attack01.infer(x=None,y=y_all)\n",
    "inferred_images02 = my_attack02.infer(x=None,y=y_all)"
   ]
  },
  {
   "cell_type": "code",
   "execution_count": 86,
   "metadata": {
    "colab": {
     "base_uri": "https://localhost:8080/",
     "height": 273
    },
    "id": "qLF6rYjPvzoE",
    "outputId": "64e180b1-0b81-488a-80ca-ef8a5e32cd51"
   },
   "outputs": [
    {
     "name": "stdout",
     "output_type": "stream",
     "text": [
      "No gauss noise\n"
     ]
    },
    {
     "data": {
      "image/png": "[encoded data removed]",
      "text/plain": [
       "<Figure size 540x288 with 10 Axes>"
      ]
     },
     "metadata": {
      "needs_background": "light"
     },
     "output_type": "display_data"
    },
    {
     "name": "stdout",
     "output_type": "stream",
     "text": [
      "Gauss noise: 0.01\n"
     ]
    },
    {
     "data": {
      "image/png": "[encoded data removed]",
      "text/plain": [
       "<Figure size 540x288 with 10 Axes>"
      ]
     },
     "metadata": {
      "needs_background": "light"
     },
     "output_type": "display_data"
    },
    {
     "name": "stdout",
     "output_type": "stream",
     "text": [
      "Gauss noise: 0.1\n"
     ]
    },
    {
     "data": {
      "image/png": "[encoded data removed]",
      "text/plain": [
       "<Figure size 540x288 with 10 Axes>"
      ]
     },
     "metadata": {
      "needs_background": "light"
     },
     "output_type": "display_data"
    }
   ],
   "source": [
    "# plot the inverted class representations\n",
    "def plot_inferred_images( inferredimages):\n",
    "    num_row = 2\n",
    "    num_col = 5\n",
    "    fig, axes = plt.subplots(num_row, num_col, figsize=(1.5*num_col,2*num_row))\n",
    "    for i in range(10):\n",
    "        ax = axes[i//num_col, i%num_col]\n",
    "        ax.set_axis_off()\n",
    "        ax.imshow(inferredimages[i,:,:,:].reshape(28,28), cmap='gray')\n",
    "        ax.set_title('Label: {}'.format(y_all[i]))\n",
    "\n",
    "    plt.tight_layout()\n",
    "    plt.show()\n",
    "\n",
    "print(\"No gauss noise\")\n",
    "plot_inferred_images( inferred_images)\n",
    "print(\"Gauss noise: 0.01\")\n",
    "plot_inferred_images( inferred_images01)\n",
    "print(\"Gauss noise: 0.1\")\n",
    "plot_inferred_images( inferred_images02)"
   ]
  },
  {
   "cell_type": "code",
   "execution_count": null,
   "metadata": {},
   "outputs": [],
   "source": []
  }
 ],
 "metadata": {
  "accelerator": "GPU",
  "colab": {
   "authorship_tag": "ABX9TyNn+7WiezCV+mKsUexD+YFU",
   "include_colab_link": true,
   "mount_file_id": "1kFmZ17tpg3tp9op0FQBQQTjvgjJd-3O0",
   "name": "model_inversion_attack_with_IBM_ART",
   "provenance": []
  },
  "kernelspec": {
   "display_name": "Python 3 (ipykernel)",
   "language": "python",
   "name": "python3"
  },
  "language_info": {
   "codemirror_mode": {
    "name": "ipython",
    "version": 3
   },
   "file_extension": ".py",
   "mimetype": "text/x-python",
   "name": "python",
   "nbconvert_exporter": "python",
   "pygments_lexer": "ipython3",
   "version": "3.9.1"
  }
 },
 "nbformat": 4,
 "nbformat_minor": 1
}
