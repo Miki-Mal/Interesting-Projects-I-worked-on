{
 "cells": [
  {
   "cell_type": "markdown",
   "id": "c61f80a5",
   "metadata": {},
   "source": [
    "Peaks\n",
    "Hi-C; CTCF\n",
    "Hi-C; rad21\n",
    "ChIA-PET; CTCF\n",
    "ChIA-PET; rad21"
   ]
  },
  {
   "cell_type": "code",
   "execution_count": 60,
   "id": "ce49aa69",
   "metadata": {},
   "outputs": [],
   "source": [
    "import pandas as pd\n",
    "import numpy as np\n",
    "from tqdm import tqdm"
   ]
  },
  {
   "cell_type": "code",
   "execution_count": 61,
   "id": "67bce495",
   "metadata": {},
   "outputs": [
    {
     "name": "stdout",
     "output_type": "stream",
     "text": [
      "Shape of CTCF_df: (40949, 3)\n",
      "Shape of Rad21_df: (34623, 3)\n",
      "Shape of ChIA_PET_loops_df: (5815083, 6)\n",
      "Shape of Hi_C_loops_df: (15233, 6)\n"
     ]
    }
   ],
   "source": [
    "# Load the data into a DataFrame\n",
    "CTCF_df = pd.read_csv(\"ENCFF356LIU_CTCF_ChIP.bed\", sep='\\t', header=None).iloc[:,:3]\n",
    "\n",
    "Rad21_df = pd.read_csv(\"ENCFF834GOT_Rad21_ChIP.bed\", sep='\\t', header=None).iloc[:,:3]\n",
    "\n",
    "ChIA_PET_loops_df = pd.read_csv(\"ChIA_PET_loops.bedpe\", sep='\\t', header=None).iloc[:,:6]\n",
    "\n",
    "Hi_C_loops_df = pd.read_csv(\"Hi_C_loops.txt\", sep='\\t', header=None, skiprows=2 ).iloc[:,:6]\n",
    "# Adding \"chr\" to the numbers in the 0th and 3rd columns\n",
    "Hi_C_loops_df[0] = 'chr' + Hi_C_loops_df[0].astype(str)\n",
    "Hi_C_loops_df[3] = 'chr' + Hi_C_loops_df[3].astype(str)\n",
    "\n",
    "# Print shapes of the DataFrames\n",
    "print(\"Shape of CTCF_df:\", CTCF_df.shape)\n",
    "print(\"Shape of Rad21_df:\", Rad21_df.shape)\n",
    "print(\"Shape of ChIA_PET_loops_df:\", ChIA_PET_loops_df.shape)\n",
    "print(\"Shape of Hi_C_loops_df:\", Hi_C_loops_df.shape)"
   ]
  },
  {
   "cell_type": "code",
   "execution_count": 62,
   "id": "45f492b2",
   "metadata": {
    "scrolled": true
   },
   "outputs": [],
   "source": [
    "# Function to check if regions overlap\n",
    "def regions_overlap(region1_start, region1_end, region2_start, region2_end):\n",
    "    return np.maximum(region1_start, region2_start) <= np.minimum(region1_end, region2_end)\n",
    "\n",
    "# Function to find overlapping rows between two DataFrames\n",
    "def find_overlapping_rows(df1, df2):\n",
    "    overlapping_rows = []\n",
    "    total_iterations = len(df1) * len(df2)\n",
    "    \n",
    "    # Initialize tqdm for progress bar\n",
    "    progress_bar = tqdm(total=total_iterations, desc=\"Finding overlapping rows\", position=0)\n",
    "    \n",
    "    for index1, row1 in df1.iterrows():\n",
    "        for index2, row2 in df2.iterrows():\n",
    "            # Check if regions overlap\n",
    "            if row1[0] == row2[0] and (regions_overlap(row1[1], row1[2], row2[1], row2[2]) or\n",
    "                                        regions_overlap(row1[4], row1[5], row2[1], row2[2])):\n",
    "                overlapping_rows.append(index1)\n",
    "                break  # Move to the next row in df1\n",
    "            # Update progress bar\n",
    "            progress_bar.update(1)\n",
    "    # Close tqdm\n",
    "    progress_bar.close()\n",
    "    \n",
    "    return df1.loc[overlapping_rows]\n",
    "\n",
    "# Function to find overlapping loops between two DataFrames\n",
    "def find_overlapping_loops(df1, df2):\n",
    "    overlapping_loops = []\n",
    "    total_iterations = len(df1) * len(df2)\n",
    "    \n",
    "    # Initialize tqdm for progress bar\n",
    "    progress_bar = tqdm(total=total_iterations, desc=\"Finding overlapping loops\", position=0)\n",
    "    \n",
    "    for index1, row1 in df1.iterrows():\n",
    "        for index2, row2 in df2.iterrows():\n",
    "            # Check if regions overlap and chromosomes are the same\n",
    "            if row1[0] == row2[0] and (regions_overlap(row1[1], row1[2], row2[1], row2[2]) or\n",
    "                                        regions_overlap(row1[4], row1[5], row2[1], row2[2])):\n",
    "                overlapping_loops.append((index1, index2))\n",
    "            # Update progress bar\n",
    "            progress_bar.update(1)\n",
    "    \n",
    "    # Close tqdm\n",
    "    progress_bar.close()\n",
    "    \n",
    "    # Create a DataFrame from the list of overlapping loops\n",
    "    overlapping_loops_df = pd.DataFrame(overlapping_loops, columns=['df1_index', 'df2_index'])\n",
    "    return overlapping_loops_df"
   ]
  },
  {
   "cell_type": "code",
   "execution_count": 63,
   "id": "bb11413a",
   "metadata": {},
   "outputs": [
    {
     "name": "stderr",
     "output_type": "stream",
     "text": [
      "Finding overlapping rows:  15%|▏| 90957699/623776117 [5:34:36<345:37:22, 428.23i"
     ]
    },
    {
     "ename": "KeyboardInterrupt",
     "evalue": "",
     "output_type": "error",
     "traceback": [
      "\u001b[0;31m---------------------------------------------------------------------------\u001b[0m",
      "\u001b[0;31mKeyboardInterrupt\u001b[0m                         Traceback (most recent call last)",
      "\u001b[0;32m/var/folders/r5/f91hc7617jqbmnm453nxdgr80000gn/T/ipykernel_34648/3335448622.py\u001b[0m in \u001b[0;36m<module>\u001b[0;34m\u001b[0m\n\u001b[1;32m      1\u001b[0m \u001b[0;31m# Find overlapping rows\u001b[0m\u001b[0;34m\u001b[0m\u001b[0;34m\u001b[0m\u001b[0;34m\u001b[0m\u001b[0m\n\u001b[0;32m----> 2\u001b[0;31m \u001b[0moverlapping_rows_df_Hi_C_CTCF\u001b[0m \u001b[0;34m=\u001b[0m \u001b[0mfind_overlapping_rows\u001b[0m\u001b[0;34m(\u001b[0m\u001b[0mHi_C_loops_df\u001b[0m\u001b[0;34m,\u001b[0m \u001b[0mCTCF_df\u001b[0m\u001b[0;34m)\u001b[0m\u001b[0;34m\u001b[0m\u001b[0;34m\u001b[0m\u001b[0m\n\u001b[0m\u001b[1;32m      3\u001b[0m \u001b[0moverlapping_rows_df_Hi_C_Rad21\u001b[0m \u001b[0;34m=\u001b[0m \u001b[0mfind_overlapping_rows\u001b[0m\u001b[0;34m(\u001b[0m\u001b[0mHi_C_loops_df\u001b[0m\u001b[0;34m,\u001b[0m \u001b[0mRad21_df\u001b[0m\u001b[0;34m)\u001b[0m\u001b[0;34m\u001b[0m\u001b[0;34m\u001b[0m\u001b[0m\n\u001b[1;32m      4\u001b[0m \u001b[0moverlapping_rows_df_ChIA_PET_CTCF\u001b[0m \u001b[0;34m=\u001b[0m \u001b[0mfind_overlapping_rows\u001b[0m\u001b[0;34m(\u001b[0m\u001b[0mChIA_PET_loops_df\u001b[0m\u001b[0;34m,\u001b[0m \u001b[0mCTCF_df\u001b[0m\u001b[0;34m)\u001b[0m\u001b[0;34m\u001b[0m\u001b[0;34m\u001b[0m\u001b[0m\n\u001b[1;32m      5\u001b[0m \u001b[0moverlapping_rows_df_ChIA_PET_Rad21\u001b[0m \u001b[0;34m=\u001b[0m \u001b[0mfind_overlapping_rows\u001b[0m\u001b[0;34m(\u001b[0m\u001b[0mChIA_PET_loops_df\u001b[0m\u001b[0;34m,\u001b[0m \u001b[0mRad21_df\u001b[0m\u001b[0;34m)\u001b[0m\u001b[0;34m\u001b[0m\u001b[0;34m\u001b[0m\u001b[0m\n",
      "\u001b[0;32m/var/folders/r5/f91hc7617jqbmnm453nxdgr80000gn/T/ipykernel_34648/635964044.py\u001b[0m in \u001b[0;36mfind_overlapping_rows\u001b[0;34m(df1, df2)\u001b[0m\n\u001b[1;32m     12\u001b[0m \u001b[0;34m\u001b[0m\u001b[0m\n\u001b[1;32m     13\u001b[0m     \u001b[0;32mfor\u001b[0m \u001b[0mindex1\u001b[0m\u001b[0;34m,\u001b[0m \u001b[0mrow1\u001b[0m \u001b[0;32min\u001b[0m \u001b[0mdf1\u001b[0m\u001b[0;34m.\u001b[0m\u001b[0miterrows\u001b[0m\u001b[0;34m(\u001b[0m\u001b[0;34m)\u001b[0m\u001b[0;34m:\u001b[0m\u001b[0;34m\u001b[0m\u001b[0;34m\u001b[0m\u001b[0m\n\u001b[0;32m---> 14\u001b[0;31m         \u001b[0;32mfor\u001b[0m \u001b[0mindex2\u001b[0m\u001b[0;34m,\u001b[0m \u001b[0mrow2\u001b[0m \u001b[0;32min\u001b[0m \u001b[0mdf2\u001b[0m\u001b[0;34m.\u001b[0m\u001b[0miterrows\u001b[0m\u001b[0;34m(\u001b[0m\u001b[0;34m)\u001b[0m\u001b[0;34m:\u001b[0m\u001b[0;34m\u001b[0m\u001b[0;34m\u001b[0m\u001b[0m\n\u001b[0m\u001b[1;32m     15\u001b[0m             \u001b[0;31m# Check if regions overlap\u001b[0m\u001b[0;34m\u001b[0m\u001b[0;34m\u001b[0m\u001b[0;34m\u001b[0m\u001b[0m\n\u001b[1;32m     16\u001b[0m             if row1[0] == row2[0] and (regions_overlap(row1[1], row1[2], row2[1], row2[2]) or\n",
      "\u001b[0;32m/Library/Frameworks/Python.framework/Versions/3.9/lib/python3.9/site-packages/pandas/core/frame.py\u001b[0m in \u001b[0;36miterrows\u001b[0;34m(self)\u001b[0m\n\u001b[1;32m   1409\u001b[0m         \u001b[0mklass\u001b[0m \u001b[0;34m=\u001b[0m \u001b[0mself\u001b[0m\u001b[0;34m.\u001b[0m\u001b[0m_constructor_sliced\u001b[0m\u001b[0;34m\u001b[0m\u001b[0;34m\u001b[0m\u001b[0m\n\u001b[1;32m   1410\u001b[0m         \u001b[0;32mfor\u001b[0m \u001b[0mk\u001b[0m\u001b[0;34m,\u001b[0m \u001b[0mv\u001b[0m \u001b[0;32min\u001b[0m \u001b[0mzip\u001b[0m\u001b[0;34m(\u001b[0m\u001b[0mself\u001b[0m\u001b[0;34m.\u001b[0m\u001b[0mindex\u001b[0m\u001b[0;34m,\u001b[0m \u001b[0mself\u001b[0m\u001b[0;34m.\u001b[0m\u001b[0mvalues\u001b[0m\u001b[0;34m)\u001b[0m\u001b[0;34m:\u001b[0m\u001b[0;34m\u001b[0m\u001b[0;34m\u001b[0m\u001b[0m\n\u001b[0;32m-> 1411\u001b[0;31m             \u001b[0ms\u001b[0m \u001b[0;34m=\u001b[0m \u001b[0mklass\u001b[0m\u001b[0;34m(\u001b[0m\u001b[0mv\u001b[0m\u001b[0;34m,\u001b[0m \u001b[0mindex\u001b[0m\u001b[0;34m=\u001b[0m\u001b[0mcolumns\u001b[0m\u001b[0;34m,\u001b[0m \u001b[0mname\u001b[0m\u001b[0;34m=\u001b[0m\u001b[0mk\u001b[0m\u001b[0;34m)\u001b[0m\u001b[0;34m.\u001b[0m\u001b[0m__finalize__\u001b[0m\u001b[0;34m(\u001b[0m\u001b[0mself\u001b[0m\u001b[0;34m)\u001b[0m\u001b[0;34m\u001b[0m\u001b[0;34m\u001b[0m\u001b[0m\n\u001b[0m\u001b[1;32m   1412\u001b[0m             \u001b[0;32myield\u001b[0m \u001b[0mk\u001b[0m\u001b[0;34m,\u001b[0m \u001b[0ms\u001b[0m\u001b[0;34m\u001b[0m\u001b[0;34m\u001b[0m\u001b[0m\n\u001b[1;32m   1413\u001b[0m \u001b[0;34m\u001b[0m\u001b[0m\n",
      "\u001b[0;32m/Library/Frameworks/Python.framework/Versions/3.9/lib/python3.9/site-packages/pandas/core/series.py\u001b[0m in \u001b[0;36m__init__\u001b[0;34m(self, data, index, dtype, name, copy, fastpath)\u001b[0m\n\u001b[1;32m    397\u001b[0m \u001b[0;34m\u001b[0m\u001b[0m\n\u001b[1;32m    398\u001b[0m             \u001b[0;32mif\u001b[0m \u001b[0mindex\u001b[0m \u001b[0;32mis\u001b[0m \u001b[0;32mnot\u001b[0m \u001b[0;32mNone\u001b[0m\u001b[0;34m:\u001b[0m\u001b[0;34m\u001b[0m\u001b[0;34m\u001b[0m\u001b[0m\n\u001b[0;32m--> 399\u001b[0;31m                 \u001b[0mindex\u001b[0m \u001b[0;34m=\u001b[0m \u001b[0mensure_index\u001b[0m\u001b[0;34m(\u001b[0m\u001b[0mindex\u001b[0m\u001b[0;34m)\u001b[0m\u001b[0;34m\u001b[0m\u001b[0;34m\u001b[0m\u001b[0m\n\u001b[0m\u001b[1;32m    400\u001b[0m \u001b[0;34m\u001b[0m\u001b[0m\n\u001b[1;32m    401\u001b[0m             \u001b[0;32mif\u001b[0m \u001b[0mdata\u001b[0m \u001b[0;32mis\u001b[0m \u001b[0;32mNone\u001b[0m\u001b[0;34m:\u001b[0m\u001b[0;34m\u001b[0m\u001b[0;34m\u001b[0m\u001b[0m\n",
      "\u001b[0;31mKeyboardInterrupt\u001b[0m: "
     ]
    }
   ],
   "source": [
    "# Find overlapping rows\n",
    "overlapping_rows_df_Hi_C_CTCF = find_overlapping_rows(Hi_C_loops_df, CTCF_df)\n",
    "overlapping_rows_df_Hi_C_Rad21 = find_overlapping_rows(Hi_C_loops_df, Rad21_df)\n",
    "overlapping_rows_df_ChIA_PET_CTCF = find_overlapping_rows(ChIA_PET_loops_df, CTCF_df)\n",
    "overlapping_rows_df_ChIA_PET_Rad21 = find_overlapping_rows(ChIA_PET_loops_df, Rad21_df)\n",
    "\n",
    "# Save overlapping rows DataFrames to CSV\n",
    "overlapping_rows_df_Hi_C_CTCF.to_csv(\"out/overlapping_rows_df_Hi_C_CTCF.csv\", index=False)\n",
    "overlapping_rows_df_Hi_C_Rad21.to_csv(\"out/overlapping_rows_df_Hi_C_Rad21.csv\", index=False)\n",
    "overlapping_rows_df_ChIA_PET_CTCF.to_csv(\"out/overlapping_rows_df_ChIA_PET_CTCF.csv\", index=False)\n",
    "overlapping_rows_df_ChIA_PET_Rad21.to_csv(\"out/overlapping_rows_df_ChIA_PET_Rad21.csv\", index=False)"
   ]
  },
  {
   "cell_type": "code",
   "execution_count": null,
   "id": "e116c43f",
   "metadata": {},
   "outputs": [],
   "source": [
    "# Find common loops\n",
    "common_loops_Hi_C_CTCF__Hi_C_Rad21 = find_overlapping_loops( overlapping_rows_df_Hi_C_CTCF, overlapping_rows_df_Hi_C_Rad21)\n",
    "common_loops_Hi_C_CTCF__ChIA_PET_CTCF = find_overlapping_loops( overlapping_rows_df_Hi_C_CTCF, overlapping_rows_df_ChIA_PET_CTCF)\n",
    "common_loops_Hi_C_CTCF__ChIA_PET_Rad21 = find_overlapping_loops( overlapping_rows_df_Hi_C_CTCF, overlapping_rows_df_ChIA_PET_Rad21)\n",
    "common_loops_Hi_C_Rad21__ChIA_PET_CTCF = find_overlapping_loops( overlapping_rows_df_Hi_C_Rad21, overlapping_rows_df_ChIA_PET_CTCF)\n",
    "common_loops_Hi_C_Rad21__ChIA_PET_Rad21 = find_overlapping_loops( overlapping_rows_df_Hi_C_Rad21, overlapping_rows_df_ChIA_PET_Rad21)\n",
    "common_loops_ChIA_PET_CTCF__ChIA_PET_Rad21 = find_overlapping_loops( overlapping_rows_df_ChIA_PET_CTCF, overlapping_rows_df_ChIA_PET_Rad21)\n",
    "\n",
    "# Save common loops DataFrames to CSV\n",
    "common_loops_Hi_C_CTCF__Hi_C_Rad21.to_csv(\"out/common_loops_Hi_C_CTCF__Hi_C_Rad21.csv\", index=False)\n",
    "common_loops_Hi_C_CTCF__ChIA_PET_CTCF.to_csv(\"out/common_loops_Hi_C_CTCF__ChIA_PET_CTCF.csv\", index=False)\n",
    "common_loops_Hi_C_CTCF__ChIA_PET_Rad21.to_csv(\"out/common_loops_Hi_C_CTCF__ChIA_PET_Rad21.csv\", index=False)\n",
    "common_loops_Hi_C_Rad21__ChIA_PET_CTCF.to_csv(\"out/common_loops_Hi_C_Rad21__ChIA_PET_CTCF.csv\", index=False)\n",
    "common_loops_Hi_C_Rad21__ChIA_PET_Rad21.to_csv(\"out/common_loops_Hi_C_Rad21__ChIA_PET_Rad21.csv\", index=False)\n",
    "common_loops_ChIA_PET_CTCF__ChIA_PET_Rad21.to_csv(\"out/common_loops_ChIA_PET_CTCF__ChIA_PET_Rad21.csv\", index=False)"
   ]
  },
  {
   "cell_type": "code",
   "execution_count": null,
   "id": "10cd78fb",
   "metadata": {},
   "outputs": [],
   "source": []
  },
  {
   "cell_type": "code",
   "execution_count": null,
   "id": "a1d8c268",
   "metadata": {},
   "outputs": [],
   "source": []
  }
 ],
 "metadata": {
  "kernelspec": {
   "display_name": "Python 3 (ipykernel)",
   "language": "python",
   "name": "python3"
  },
  "language_info": {
   "codemirror_mode": {
    "name": "ipython",
    "version": 3
   },
   "file_extension": ".py",
   "mimetype": "text/x-python",
   "name": "python",
   "nbconvert_exporter": "python",
   "pygments_lexer": "ipython3",
   "version": "3.9.1"
  }
 },
 "nbformat": 4,
 "nbformat_minor": 5
}
